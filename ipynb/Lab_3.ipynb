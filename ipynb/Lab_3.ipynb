{
  "nbformat": 4,
  "nbformat_minor": 0,
  "metadata": {
    "colab": {
      "provenance": []
    },
    "kernelspec": {
      "name": "python3",
      "display_name": "Python 3"
    },
    "language_info": {
      "name": "python"
    }
  },
  "cells": [
    {
      "cell_type": "code",
      "execution_count": 1,
      "metadata": {
        "colab": {
          "base_uri": "https://localhost:8080/"
        },
        "id": "s69WAGhzQjYB",
        "outputId": "98406b16-6246-41ac-c2ef-75a3a91ad263"
      },
      "outputs": [
        {
          "output_type": "stream",
          "name": "stdout",
          "text": [
            "Chen Jie-Xian (Outfielders) - 24\n",
            "Lin Yu-Min (Pitchers) - 45\n",
            "Lin Chia-Cheng (Catchers) - 27\n"
          ]
        }
      ],
      "source": [
        "class Player:\n",
        "  def __init__(self, name, position, number):\n",
        "    self.name = name\n",
        "    self.position = position\n",
        "    self.number = number\n",
        "\n",
        "class Team:\n",
        "  def __init__(self, name):\n",
        "    self.name = name\n",
        "    self.players = []\n",
        "\n",
        "  def add_player(self, player):\n",
        "    self.players.append(player)\n",
        "\n",
        "  def get_player_info(self, number):\n",
        "    for player in self.players:\n",
        "      if player.number == number:\n",
        "        return f\"{player.name} ({player.position}) - {player.number}\"\n",
        "    return \"Player not found.\"\n",
        "\n",
        "# Test your implementation\n",
        "player1 = Player(\"Chen Jie-Xian\", \"Outfielders\", 24)\n",
        "player2 = Player(\"Lin Yu-Min\", \"Pitchers\", 45)\n",
        "player3 = Player(\"Lin Chia-Cheng\", \"Catchers\", 27)\n",
        "\n",
        "team1 = Team(\"Team Taiwan\")\n",
        "team1.add_player(player1)\n",
        "team1.add_player(player2)\n",
        "team1.add_player(player3)\n",
        "\n",
        "print(team1.get_player_info(24))\n",
        "print(team1.get_player_info(45))\n",
        "print(team1.get_player_info(27))\n"
      ]
    }
  ]
}