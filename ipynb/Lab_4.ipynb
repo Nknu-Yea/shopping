{
  "nbformat": 4,
  "nbformat_minor": 0,
  "metadata": {
    "colab": {
      "provenance": []
    },
    "kernelspec": {
      "name": "python3",
      "display_name": "Python 3"
    },
    "language_info": {
      "name": "python"
    }
  },
  "cells": [
    {
      "cell_type": "code",
      "source": [
        "import json\n",
        "import time"
      ],
      "metadata": {
        "id": "r3fJ-NOGz7ri"
      },
      "execution_count": 33,
      "outputs": []
    },
    {
      "cell_type": "code",
      "source": [
        "class Base:\n",
        "  def success(self, message, data=None):\n",
        "    if data == None:\n",
        "      return json.dumps({\"status\": \"success\", \"message\": message}, ensure_ascii=False)\n",
        "    else:\n",
        "      return json.dumps({\"status\": \"success\", \"message\": message, \"data\": data}, ensure_ascii=False)\n",
        "\n",
        "  def error(self, message):\n",
        "    return json.dumps({\"status\": \"error\", \"message\": message}, ensure_ascii=False)"
      ],
      "metadata": {
        "id": "ghb7lJbzFJvY"
      },
      "execution_count": 78,
      "outputs": []
    },
    {
      "cell_type": "code",
      "execution_count": 79,
      "metadata": {
        "colab": {
          "base_uri": "https://localhost:8080/"
        },
        "id": "XO9Mhe1PaFYP",
        "outputId": "6b38d563-beec-46cd-bb49-d6d368491eda"
      },
      "outputs": [
        {
          "output_type": "stream",
          "name": "stdout",
          "text": [
            "{\"status\": \"success\", \"message\": \"\", \"data\": [{\"cart_id\": 1, \"member_id\": 1, \"create_time\": \"2024-12-09 08:09:24\"}, {\"cart_id\": 2, \"member_id\": 2, \"create_time\": \"2024-12-09 08:09:24\"}, {\"cart_id\": 3, \"member_id\": 3, \"create_time\": \"2024-12-09 08:09:24\"}]}\n"
          ]
        }
      ],
      "source": [
        "class ShoppingCart(Base):\n",
        "  def __init__(self):\n",
        "    self.shopping_carts = []\n",
        "\n",
        "  def add_cart(self, member_id):\n",
        "    self.cart_id = len(self.shopping_carts) + 1\n",
        "    self.member_id = member_id\n",
        "    self.create_time = time.strftime(\"%Y-%m-%d %H:%M:%S\", time.localtime())\n",
        "    data = {\n",
        "      'cart_id': self.cart_id,\n",
        "      'member_id': self.member_id,\n",
        "      'create_time': self.create_time\n",
        "    }\n",
        "    self.shopping_carts.append(data)\n",
        "\n",
        "  def get_carts(self):\n",
        "    print(self.success(\"\", self.shopping_carts))\n",
        "\n",
        "# 測試\n",
        "shopping_cart_instance = ShoppingCart()\n",
        "shopping_cart_instance.add_cart(1)\n",
        "shopping_cart_instance.add_cart(2)\n",
        "shopping_cart_instance.add_cart(3)\n",
        "shopping_cart_instance.get_carts()"
      ]
    },
    {
      "cell_type": "code",
      "source": [
        "class Product(Base):\n",
        "  def __init__(self):\n",
        "    self.products = []\n",
        "\n",
        "  def add_product(self, product_serialize):\n",
        "    try:\n",
        "      self.product_id = len(self.products) + 1\n",
        "      self.create_time = time.strftime(\"%Y-%m-%d %H:%M:%S\", time.localtime())\n",
        "      product = json.loads(product_serialize)\n",
        "      product['product_id'] = self.product_id\n",
        "      product['create_time'] = self.create_time\n",
        "      product['last_update_time'] = self.create_time\n",
        "      self.products.append(product)\n",
        "      print(self.success(\"產品新增成功\", product))\n",
        "    except json.JSONDecodeError:\n",
        "      print(self.error(\"產品資料格式不正確\"))\n",
        "\n",
        "  def get_product(self, product_id, output=True):\n",
        "    for product in self.products:\n",
        "      if product['product_id'] == product_id:\n",
        "        if output: print(self.success(\"\", product))\n",
        "        return product\n",
        "    if output: print(self.error(f\"沒找到產品編號 {product_id}\"))\n",
        "    return {}\n",
        "\n",
        "# 測試\n",
        "product_instance = Product()\n",
        "\n",
        "# 新增產品測試\n",
        "product_instance.add_product('{\"product_name\": \"電視機\", \"product_price\": 50000, \"product_init_qty\": 10, \"product_remaining_qty\": 10, \"product_status\": \"active\", \"product_screenshot_url\": \"/project/電視機.png\"}')\n",
        "product_instance.add_product('{\"product_name\": \"冷氣\", \"product_price\": 120000, \"product_init_qty\": 10, \"product_remaining_qty\": 10, \"product_status\": \"active\", \"product_screenshot_url\": \"/project/冷氣.png\"}')\n",
        "\n",
        "# 取得產品測試\n",
        "product_instance.get_product(1)\n",
        "product_instance.get_product(3)\n"
      ],
      "metadata": {
        "colab": {
          "base_uri": "https://localhost:8080/"
        },
        "id": "6QBxLj7VgfSu",
        "outputId": "5cf3196e-b620-4521-f1db-1a7522764ae3"
      },
      "execution_count": 84,
      "outputs": [
        {
          "output_type": "stream",
          "name": "stdout",
          "text": [
            "{\"status\": \"success\", \"message\": \"產品新增成功\", \"data\": {\"product_name\": \"電視機\", \"product_price\": 50000, \"product_init_qty\": 10, \"product_remaining_qty\": 10, \"product_status\": \"active\", \"product_screenshot_url\": \"/project/電視機.png\", \"product_id\": 1, \"create_time\": \"2024-12-09 08:13:47\", \"last_update_time\": \"2024-12-09 08:13:47\"}}\n",
            "{\"status\": \"success\", \"message\": \"產品新增成功\", \"data\": {\"product_name\": \"冷氣\", \"product_price\": 120000, \"product_init_qty\": 10, \"product_remaining_qty\": 10, \"product_status\": \"active\", \"product_screenshot_url\": \"/project/冷氣.png\", \"product_id\": 2, \"create_time\": \"2024-12-09 08:13:47\", \"last_update_time\": \"2024-12-09 08:13:47\"}}\n",
            "{\"status\": \"success\", \"message\": \"\", \"data\": {\"product_name\": \"電視機\", \"product_price\": 50000, \"product_init_qty\": 10, \"product_remaining_qty\": 10, \"product_status\": \"active\", \"product_screenshot_url\": \"/project/電視機.png\", \"product_id\": 1, \"create_time\": \"2024-12-09 08:13:47\", \"last_update_time\": \"2024-12-09 08:13:47\"}}\n",
            "{\"status\": \"error\", \"message\": \"沒找到產品編號 3\"}\n"
          ]
        },
        {
          "output_type": "execute_result",
          "data": {
            "text/plain": [
              "{}"
            ]
          },
          "metadata": {},
          "execution_count": 84
        }
      ]
    },
    {
      "cell_type": "code",
      "source": [
        "class ShoppingCartItem(Base):\n",
        "  def __init__(self, product_instance):\n",
        "    self.cart_items = {}\n",
        "    self.cart_item_id = 0\n",
        "    self.product_instance = product_instance\n",
        "\n",
        "  def add_cart_item(self, cart_id, product_id, quantity=1):\n",
        "    # 初始化該購物車的商品列表\n",
        "    if cart_id not in self.cart_items:\n",
        "        self.cart_items[cart_id] = []\n",
        "\n",
        "    # 檢查購物車內是否已有相同產品\n",
        "    for item in self.cart_items[cart_id]:\n",
        "      if item['product_id'] == product_id:\n",
        "        print(self.error(\"產品已存在於購物車\"))\n",
        "        return\n",
        "\n",
        "    # 從 Product 實例取得產品資料\n",
        "    product = self.product_instance.get_product(product_id, False)\n",
        "\n",
        "    # 如果產品尚未加入購物車\n",
        "    self.cart_item_id += 1\n",
        "    self.create_time = time.strftime(\"%Y-%m-%d %H:%M:%S\", time.localtime())\n",
        "    new_item = {\n",
        "      'cart_id': cart_id,\n",
        "      'product_id': product_id,\n",
        "      'cart_item_id': self.cart_item_id,\n",
        "      'cart_item_serialize': product,\n",
        "      'cart_item_price': product[\"product_price\"],\n",
        "      'cart_item_qty': quantity,\n",
        "      'cart_item_screenshot_url': product[\"product_screenshot_url\"],\n",
        "      'cart_item_status': product[\"product_status\"],\n",
        "      'create_time': self.create_time,\n",
        "      'last_update_time': self.create_time\n",
        "    }\n",
        "    self.cart_items[cart_id].append(new_item)\n",
        "    print(self.success(\"產品已加入購物車\", new_item))\n",
        "\n",
        "  def remove_cart_item(self, cart_id, product_id):\n",
        "    if cart_id in self.cart_items:\n",
        "      filtered_items = [\n",
        "        item for item in self.cart_items[cart_id] if item['product_id'] != product_id\n",
        "      ]\n",
        "      if len(filtered_items) < len(self.cart_items[cart_id]):\n",
        "        self.cart_items[cart_id] = filtered_items\n",
        "        print(self.success(f\"產品編號 {product_id} 已從購物車編號 {cart_id} 移除\"))\n",
        "      else:\n",
        "        print(self.error(f\"購物車編號 {cart_id} 中找不到產品編號 {product_id}\"))\n",
        "    else:\n",
        "      print(self.error(f\"找不到購物車編號 {cart_id}\"))\n",
        "\n",
        "  def get_cart_item(self, cart_item_id):\n",
        "    for cart_id, items in self.cart_items.items():\n",
        "      for item in items:\n",
        "        if item['cart_item_id'] == cart_item_id:\n",
        "          print(self.success(\"找到購物車項目\", item))\n",
        "          return\n",
        "    print(self.error(f\"找不到購物車項目 {cart_item_id}\"))\n",
        "\n",
        "  def sync_cart_item_status(self, cart_id):\n",
        "    if cart_id not in self.cart_items:\n",
        "      print(self.error(f\"找不到購物車編號 {cart_id}\"))\n",
        "      return\n",
        "\n",
        "    updated_items = []\n",
        "    for item in self.cart_items[cart_id]:\n",
        "      # 取得最新的產品資料\n",
        "      product = None\n",
        "      for prod in self.product_instance.products:\n",
        "        if prod[\"product_id\"] == item[\"product_id\"]:\n",
        "          product = prod\n",
        "          break\n",
        "\n",
        "      item[\"cart_item_status\"] = product.get(\"product_status\")\n",
        "      item[\"last_update_time\"] = time.strftime(\"%Y-%m-%d %H:%M:%S\", time.localtime())\n",
        "      updated_items.append(item)\n",
        "\n",
        "    # 更新購物車的項目列表\n",
        "    self.cart_items[cart_id] = updated_items\n",
        "    print(self.success(f\"購物車編號 {cart_id} 的所有商品狀態已同步\", updated_items))\n",
        "\n",
        "  def update_cart_item_qty(self, cart_item_id, cart_item_qty):\n",
        "    # 確保數量有效\n",
        "    if cart_item_qty <= 0:\n",
        "      print(self.error(\"數量必須大於零\"))\n",
        "      return\n",
        "\n",
        "    # 遍歷購物車查找目標項目\n",
        "    for cart_id, items in self.cart_items.items():\n",
        "      for item in items:\n",
        "        if item['cart_item_id'] == cart_item_id:\n",
        "          # 更新數量與最後更新時間\n",
        "          item['cart_item_qty'] = cart_item_qty\n",
        "          item['last_update_time'] = time.strftime(\"%Y-%m-%d %H:%M:%S\", time.localtime())\n",
        "          print(self.success(f\"購物車項目 {cart_item_id} 數量已更新為 {cart_item_qty}\", item))\n",
        "          return\n",
        "\n",
        "    # 若找不到項目\n",
        "    print(self.error(f\"找不到購物車項目 {cart_item_id}\"))\n",
        "\n",
        "  def get_cart_items(self, cart_id):\n",
        "    print(self.success(\"取得所有購物車項目\", self.cart_items))\n",
        "\n",
        "  def empty_cart_items(self, cart_id):\n",
        "    if cart_id in self.cart_items:\n",
        "      self.cart_items[cart_id] = []\n",
        "      print(self.success(f\"購物車編號 {cart_id} 的所有項目已清空\"))\n",
        "    else:\n",
        "      print(self.error(f\"找不到購物車編號 {cart_id}\"))\n",
        "\n",
        "# 測試\n",
        "shopping_cart_item_instance = ShoppingCartItem(product_instance)\n",
        "shopping_cart_item_instance.add_cart_item(shopping_cart_instance.shopping_carts[0][\"cart_id\"], product_instance.products[0][\"product_id\"], 1)\n",
        "shopping_cart_item_instance.add_cart_item(shopping_cart_instance.shopping_carts[0][\"cart_id\"], product_instance.products[0][\"product_id\"], 2)\n",
        "shopping_cart_item_instance.add_cart_item(shopping_cart_instance.shopping_carts[0][\"cart_id\"], product_instance.products[0][\"product_id\"]+1, 1)\n",
        "time.sleep(1)\n",
        "shopping_cart_item_instance.update_cart_item_qty(shopping_cart_item_instance.cart_items[shopping_cart_instance.shopping_carts[0][\"cart_id\"]][0][\"cart_item_id\"], 3)\n",
        "shopping_cart_item_instance.get_cart_item(1)\n",
        "shopping_cart_item_instance.sync_cart_item_status(1)\n",
        "shopping_cart_item_instance.get_cart_items(shopping_cart_instance.shopping_carts[0][\"cart_id\"])\n",
        "shopping_cart_item_instance.empty_cart_items(shopping_cart_instance.shopping_carts[0][\"cart_id\"])\n",
        "shopping_cart_item_instance.get_cart_items(shopping_cart_instance.shopping_carts[0][\"cart_id\"])\n"
      ],
      "metadata": {
        "colab": {
          "base_uri": "https://localhost:8080/"
        },
        "id": "d7HxpM23gbkJ",
        "outputId": "37b8d722-1e1c-4471-f8ee-343d553f0951"
      },
      "execution_count": 104,
      "outputs": [
        {
          "output_type": "stream",
          "name": "stdout",
          "text": [
            "{\"status\": \"success\", \"message\": \"產品已加入購物車\", \"data\": {\"cart_id\": 1, \"product_id\": 1, \"cart_item_id\": 1, \"cart_item_serialize\": {\"product_name\": \"電視機\", \"product_price\": 50000, \"product_init_qty\": 10, \"product_remaining_qty\": 10, \"product_status\": \"active\", \"product_screenshot_url\": \"/project/電視機.png\", \"product_id\": 1, \"create_time\": \"2024-12-09 08:13:47\", \"last_update_time\": \"2024-12-09 08:13:47\"}, \"cart_item_price\": 50000, \"cart_item_qty\": 1, \"cart_item_screenshot_url\": \"/project/電視機.png\", \"cart_item_status\": \"active\", \"create_time\": \"2024-12-09 08:35:20\", \"last_update_time\": \"2024-12-09 08:35:20\"}}\n",
            "{\"status\": \"error\", \"message\": \"產品已存在於購物車\"}\n",
            "{\"status\": \"success\", \"message\": \"產品已加入購物車\", \"data\": {\"cart_id\": 1, \"product_id\": 2, \"cart_item_id\": 2, \"cart_item_serialize\": {\"product_name\": \"冷氣\", \"product_price\": 120000, \"product_init_qty\": 10, \"product_remaining_qty\": 10, \"product_status\": \"active\", \"product_screenshot_url\": \"/project/冷氣.png\", \"product_id\": 2, \"create_time\": \"2024-12-09 08:13:47\", \"last_update_time\": \"2024-12-09 08:13:47\"}, \"cart_item_price\": 120000, \"cart_item_qty\": 1, \"cart_item_screenshot_url\": \"/project/冷氣.png\", \"cart_item_status\": \"active\", \"create_time\": \"2024-12-09 08:35:20\", \"last_update_time\": \"2024-12-09 08:35:20\"}}\n",
            "{\"status\": \"success\", \"message\": \"購物車項目 1 數量已更新為 3\", \"data\": {\"cart_id\": 1, \"product_id\": 1, \"cart_item_id\": 1, \"cart_item_serialize\": {\"product_name\": \"電視機\", \"product_price\": 50000, \"product_init_qty\": 10, \"product_remaining_qty\": 10, \"product_status\": \"active\", \"product_screenshot_url\": \"/project/電視機.png\", \"product_id\": 1, \"create_time\": \"2024-12-09 08:13:47\", \"last_update_time\": \"2024-12-09 08:13:47\"}, \"cart_item_price\": 50000, \"cart_item_qty\": 3, \"cart_item_screenshot_url\": \"/project/電視機.png\", \"cart_item_status\": \"active\", \"create_time\": \"2024-12-09 08:35:20\", \"last_update_time\": \"2024-12-09 08:35:21\"}}\n",
            "{\"status\": \"success\", \"message\": \"找到購物車項目\", \"data\": {\"cart_id\": 1, \"product_id\": 1, \"cart_item_id\": 1, \"cart_item_serialize\": {\"product_name\": \"電視機\", \"product_price\": 50000, \"product_init_qty\": 10, \"product_remaining_qty\": 10, \"product_status\": \"active\", \"product_screenshot_url\": \"/project/電視機.png\", \"product_id\": 1, \"create_time\": \"2024-12-09 08:13:47\", \"last_update_time\": \"2024-12-09 08:13:47\"}, \"cart_item_price\": 50000, \"cart_item_qty\": 3, \"cart_item_screenshot_url\": \"/project/電視機.png\", \"cart_item_status\": \"active\", \"create_time\": \"2024-12-09 08:35:20\", \"last_update_time\": \"2024-12-09 08:35:21\"}}\n",
            "{\"status\": \"success\", \"message\": \"購物車編號 1 的所有商品狀態已同步\", \"data\": [{\"cart_id\": 1, \"product_id\": 1, \"cart_item_id\": 1, \"cart_item_serialize\": {\"product_name\": \"電視機\", \"product_price\": 50000, \"product_init_qty\": 10, \"product_remaining_qty\": 10, \"product_status\": \"active\", \"product_screenshot_url\": \"/project/電視機.png\", \"product_id\": 1, \"create_time\": \"2024-12-09 08:13:47\", \"last_update_time\": \"2024-12-09 08:13:47\"}, \"cart_item_price\": 50000, \"cart_item_qty\": 3, \"cart_item_screenshot_url\": \"/project/電視機.png\", \"cart_item_status\": \"active\", \"create_time\": \"2024-12-09 08:35:20\", \"last_update_time\": \"2024-12-09 08:35:21\"}, {\"cart_id\": 1, \"product_id\": 2, \"cart_item_id\": 2, \"cart_item_serialize\": {\"product_name\": \"冷氣\", \"product_price\": 120000, \"product_init_qty\": 10, \"product_remaining_qty\": 10, \"product_status\": \"active\", \"product_screenshot_url\": \"/project/冷氣.png\", \"product_id\": 2, \"create_time\": \"2024-12-09 08:13:47\", \"last_update_time\": \"2024-12-09 08:13:47\"}, \"cart_item_price\": 120000, \"cart_item_qty\": 1, \"cart_item_screenshot_url\": \"/project/冷氣.png\", \"cart_item_status\": \"active\", \"create_time\": \"2024-12-09 08:35:20\", \"last_update_time\": \"2024-12-09 08:35:21\"}]}\n",
            "{\"status\": \"success\", \"message\": \"取得所有購物車項目\", \"data\": {\"1\": [{\"cart_id\": 1, \"product_id\": 1, \"cart_item_id\": 1, \"cart_item_serialize\": {\"product_name\": \"電視機\", \"product_price\": 50000, \"product_init_qty\": 10, \"product_remaining_qty\": 10, \"product_status\": \"active\", \"product_screenshot_url\": \"/project/電視機.png\", \"product_id\": 1, \"create_time\": \"2024-12-09 08:13:47\", \"last_update_time\": \"2024-12-09 08:13:47\"}, \"cart_item_price\": 50000, \"cart_item_qty\": 3, \"cart_item_screenshot_url\": \"/project/電視機.png\", \"cart_item_status\": \"active\", \"create_time\": \"2024-12-09 08:35:20\", \"last_update_time\": \"2024-12-09 08:35:21\"}, {\"cart_id\": 1, \"product_id\": 2, \"cart_item_id\": 2, \"cart_item_serialize\": {\"product_name\": \"冷氣\", \"product_price\": 120000, \"product_init_qty\": 10, \"product_remaining_qty\": 10, \"product_status\": \"active\", \"product_screenshot_url\": \"/project/冷氣.png\", \"product_id\": 2, \"create_time\": \"2024-12-09 08:13:47\", \"last_update_time\": \"2024-12-09 08:13:47\"}, \"cart_item_price\": 120000, \"cart_item_qty\": 1, \"cart_item_screenshot_url\": \"/project/冷氣.png\", \"cart_item_status\": \"active\", \"create_time\": \"2024-12-09 08:35:20\", \"last_update_time\": \"2024-12-09 08:35:21\"}]}}\n",
            "{\"status\": \"success\", \"message\": \"購物車編號 1 的所有項目已清空\"}\n",
            "{\"status\": \"success\", \"message\": \"取得所有購物車項目\", \"data\": {\"1\": []}}\n"
          ]
        }
      ]
    }
  ]
}